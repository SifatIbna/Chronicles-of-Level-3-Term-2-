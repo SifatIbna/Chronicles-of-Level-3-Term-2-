{
 "cells": [
  {
   "cell_type": "code",
   "execution_count": 1,
   "metadata": {},
   "outputs": [],
   "source": [
    "from collections import deque, defaultdict\n",
    "import random\n",
    "import numpy as np\n",
    "import csv\n",
    "\n",
    "from FileReader import reading_file\n",
    "from Dsatur import Dsatur\n",
    "from check import check_result\n",
    "from KempeChain import Kempe_Chain\n",
    "from Penalty import Penalty\n",
    "from SWO import SWO"
   ]
  },
  {
   "cell_type": "markdown",
   "metadata": {},
   "source": [
    "## DSATUR ALGORITHM"
   ]
  },
  {
   "cell_type": "code",
   "execution_count": 2,
   "metadata": {},
   "outputs": [
    {
     "name": "stdout",
     "output_type": "stream",
     "text": [
      "Max Color : 21\n"
     ]
    }
   ],
   "source": [
    "# TODO: desatur algorithm:\n",
    "conflict_dict,sub_to_stu, stu_to_sub= reading_file()\n",
    "\n",
    "dst = Dsatur(conflict_dict)\n",
    "colored_Vertices,maxColor = dst.dsatur()\n",
    "\n",
    "print(\"Max Color :\",maxColor)"
   ]
  },
  {
   "cell_type": "code",
   "execution_count": 3,
   "metadata": {},
   "outputs": [
    {
     "name": "stdout",
     "output_type": "stream",
     "text": [
      "0\n"
     ]
    }
   ],
   "source": [
    "error = check_result(colored_Vertices,conflict_dict)\n",
    "print(error)"
   ]
  },
  {
   "cell_type": "code",
   "execution_count": 4,
   "metadata": {},
   "outputs": [
    {
     "name": "stdout",
     "output_type": "stream",
     "text": [
      "39.29117959617428\n"
     ]
    }
   ],
   "source": [
    "pen_val = Penalty(stu_to_sub,colored_Vertices).find_penalty()\n",
    "print(pen_val)"
   ]
  },
  {
   "cell_type": "markdown",
   "metadata": {},
   "source": [
    "## KEMPE CHAIN"
   ]
  },
  {
   "cell_type": "code",
   "execution_count": 5,
   "metadata": {},
   "outputs": [],
   "source": [
    "obj = Kempe_Chain(colored_Vertices,conflict_dict,stu_to_sub)\n",
    "test_color,visited = obj.kempe_chain()"
   ]
  },
  {
   "cell_type": "code",
   "execution_count": 6,
   "metadata": {},
   "outputs": [],
   "source": [
    "# print(len(conflict_dict))\n",
    "# print(len(stu_to_sub))\n",
    "# print(len(sub_to_stu))"
   ]
  },
  {
   "cell_type": "code",
   "execution_count": 7,
   "metadata": {},
   "outputs": [
    {
     "name": "stdout",
     "output_type": "stream",
     "text": [
      "38.207226354941554\n"
     ]
    }
   ],
   "source": [
    "pen_val = Penalty(stu_to_sub,test_color).find_penalty()\n",
    "print(pen_val)"
   ]
  },
  {
   "cell_type": "markdown",
   "metadata": {},
   "source": [
    "## SQUEAKY WHEEL OPTIMIZATION"
   ]
  },
  {
   "cell_type": "code",
   "execution_count": 8,
   "metadata": {},
   "outputs": [
    {
     "name": "stdout",
     "output_type": "stream",
     "text": [
      "iteration : 0\n",
      "iteration : 1\n",
      "iteration : 2\n",
      "iteration : 3\n",
      "iteration : 4\n",
      "iteration : 5\n",
      "iteration : 6\n",
      "iteration : 7\n",
      "iteration : 8\n",
      "iteration : 9\n",
      "iteration : 10\n",
      "iteration : 11\n",
      "iteration : 12\n",
      "iteration : 13\n",
      "iteration : 14\n",
      "iteration : 15\n",
      "iteration : 16\n",
      "iteration : 17\n",
      "iteration : 18\n",
      "iteration : 19\n",
      "iteration : 20\n",
      "iteration : 21\n",
      "iteration : 22\n",
      "iteration : 23\n",
      "iteration : 24\n",
      "iteration : 25\n",
      "iteration : 26\n",
      "iteration : 27\n",
      "iteration : 28\n",
      "iteration : 29\n",
      "iteration : 30\n",
      "iteration : 31\n",
      "iteration : 32\n",
      "iteration : 33\n",
      "iteration : 34\n",
      "iteration : 35\n",
      "iteration : 36\n",
      "iteration : 37\n",
      "iteration : 38\n",
      "iteration : 39\n",
      "iteration : 40\n",
      "iteration : 41\n",
      "iteration : 42\n",
      "iteration : 43\n",
      "iteration : 44\n",
      "iteration : 45\n",
      "iteration : 46\n",
      "iteration : 47\n",
      "iteration : 48\n",
      "iteration : 49\n",
      "iteration : 50\n",
      "iteration : 51\n",
      "iteration : 52\n",
      "iteration : 53\n",
      "iteration : 54\n",
      "iteration : 55\n",
      "iteration : 56\n",
      "iteration : 57\n",
      "iteration : 58\n",
      "iteration : 59\n",
      "iteration : 60\n",
      "iteration : 61\n",
      "iteration : 62\n",
      "iteration : 63\n",
      "iteration : 64\n",
      "iteration : 65\n",
      "iteration : 66\n",
      "iteration : 67\n",
      "iteration : 68\n",
      "iteration : 69\n",
      "iteration : 70\n",
      "iteration : 71\n",
      "iteration : 72\n",
      "iteration : 73\n",
      "iteration : 74\n",
      "iteration : 75\n",
      "iteration : 76\n",
      "iteration : 77\n",
      "iteration : 78\n",
      "iteration : 79\n",
      "iteration : 80\n",
      "iteration : 81\n",
      "iteration : 82\n",
      "iteration : 83\n",
      "iteration : 84\n",
      "iteration : 85\n",
      "iteration : 86\n",
      "iteration : 87\n",
      "iteration : 88\n",
      "iteration : 89\n",
      "iteration : 90\n",
      "iteration : 91\n",
      "iteration : 92\n",
      "iteration : 93\n",
      "iteration : 94\n",
      "iteration : 95\n",
      "iteration : 96\n",
      "iteration : 97\n",
      "iteration : 98\n",
      "iteration : 99\n"
     ]
    }
   ],
   "source": [
    "##SWO\n",
    "obj = SWO(conflict_dict)\n",
    "max_value ,best_solution = obj.squeaky_wheel_opt()"
   ]
  },
  {
   "cell_type": "code",
   "execution_count": 9,
   "metadata": {},
   "outputs": [
    {
     "name": "stdout",
     "output_type": "stream",
     "text": [
      "21\n"
     ]
    }
   ],
   "source": [
    "print(max_value)"
   ]
  },
  {
   "cell_type": "code",
   "execution_count": 10,
   "metadata": {},
   "outputs": [],
   "source": [
    "obj = Kempe_Chain(best_solution,conflict_dict,stu_to_sub)\n",
    "test_color,visited = obj.kempe_chain()"
   ]
  },
  {
   "cell_type": "code",
   "execution_count": 11,
   "metadata": {},
   "outputs": [],
   "source": [
    "pen_val = Penalty(stu_to_sub,test_color).find_penalty()"
   ]
  },
  {
   "cell_type": "code",
   "execution_count": 12,
   "metadata": {},
   "outputs": [
    {
     "name": "stdout",
     "output_type": "stream",
     "text": [
      "37.682252922422954\n"
     ]
    }
   ],
   "source": [
    "print(pen_val)"
   ]
  },
  {
   "cell_type": "code",
   "execution_count": null,
   "metadata": {},
   "outputs": [],
   "source": []
  }
 ],
 "metadata": {
  "kernelspec": {
   "display_name": "Python 3",
   "language": "python",
   "name": "python3"
  },
  "language_info": {
   "codemirror_mode": {
    "name": "ipython",
    "version": 3
   },
   "file_extension": ".py",
   "mimetype": "text/x-python",
   "name": "python",
   "nbconvert_exporter": "python",
   "pygments_lexer": "ipython3",
   "version": "3.7.7"
  }
 },
 "nbformat": 4,
 "nbformat_minor": 4
}
